{
 "cells": [
  {
   "cell_type": "markdown",
   "metadata": {},
   "source": [
    "### Introduction\n",
    "\n",
    "There is a music streaming app called SoundCloud, that has been using their music streaming app and collecting data on songs and user activity and their aim is to analyze this data especially understanding what songs users are listening to. Currently, they are not making use of a NoSQL db and they have the data stored as a CSV file, thus its difficult for them to query the data. So our task is to create a NoSQL database for helping them with the analysis."
   ]
  },
  {
   "cell_type": "markdown",
   "metadata": {},
   "source": [
    "#### Import Packages "
   ]
  },
  {
   "cell_type": "code",
   "execution_count": 26,
   "metadata": {},
   "outputs": [],
   "source": [
    "import pandas as pd\n",
    "import numpy as np\n",
    "import cassandra\n",
    "import csv"
   ]
  },
  {
   "cell_type": "markdown",
   "metadata": {},
   "source": [
    "\n",
    "##  The image below is a screenshot of what the data appears like in the event_data.csv\n",
    "\n",
    "<img src=\"event_data_image.jpg\">"
   ]
  },
  {
   "cell_type": "markdown",
   "metadata": {},
   "source": [
    "#### Creating a Cluster"
   ]
  },
  {
   "cell_type": "code",
   "execution_count": 27,
   "metadata": {},
   "outputs": [],
   "source": [
    "# Task: Make a connection to the cassandra instance on your local machine(127.0.0.1) and \n",
    "# create a session to establish connection and begin executing queries"
   ]
  },
  {
   "cell_type": "code",
   "execution_count": 28,
   "metadata": {},
   "outputs": [],
   "source": [
    "try:\n",
    "    session.execute(\"\"\"\n",
    "    CREATE KEYSPACE IF NOT EXISTS nosqldb \n",
    "    WITH REPLICATION = { 'class' : 'SimpleStrategy', 'replication_factor' : 1 }\"\"\"\n",
    ")\n",
    "\n",
    "except Exception as e:\n",
    "    print(e)"
   ]
  },
  {
   "cell_type": "code",
   "execution_count": 29,
   "metadata": {},
   "outputs": [
    {
     "name": "stdout",
     "output_type": "stream",
     "text": [
      "success\n"
     ]
    }
   ],
   "source": [
    "from cassandra.cluster import Cluster\n",
    "try: \n",
    "    cluster = Cluster(['127.0.0.1']) #If you have a locally installed Apache Cassandra instance\n",
    "    session = cluster.connect()\n",
    "    print('success')\n",
    "except Exception as e:\n",
    "    print(e)"
   ]
  },
  {
   "cell_type": "markdown",
   "metadata": {},
   "source": [
    "#### Create & Set Keyspace"
   ]
  },
  {
   "cell_type": "code",
   "execution_count": 30,
   "metadata": {},
   "outputs": [],
   "source": [
    "# Task: Create a Keyspace and Set KEYSPACE to the keyspace specified above\n",
    "try:\n",
    "    session.execute(\"\"\"\n",
    "    CREATE KEYSPACE IF NOT EXISTS nosqldb \n",
    "    WITH REPLICATION = { 'class' : 'SimpleStrategy', 'replication_factor' : 1 }\"\"\"\n",
    ")\n",
    "\n",
    "except Exception as e:\n",
    "    print(e)"
   ]
  },
  {
   "cell_type": "code",
   "execution_count": 31,
   "metadata": {},
   "outputs": [],
   "source": [
    "try:\n",
    "    session.set_keyspace('nosqldb')\n",
    "except Exception as e:\n",
    "    print(e)"
   ]
  },
  {
   "cell_type": "markdown",
   "metadata": {},
   "source": [
    "## List of Queries \n",
    "\n",
    "### 1. Find the artist_name, song_title and length of song the SoundCloud app history that was heard during  session_number = 338, and item_in_session_number  = 4\n",
    "\n",
    "\n",
    "### 2. Find the artist_name, song_title (sorted by item_in_session_number) and name(fname and lname) of the user for user_id = 10, session_number = 182\n",
    "    \n",
    "\n",
    "### 3. Find every name(fname and lname) of the user from the SoundCloud app history that listened to the song_title 'All Hands Against His Own'\n",
    "\n",
    "\n"
   ]
  },
  {
   "cell_type": "markdown",
   "metadata": {},
   "source": [
    "### Query1 Table1: How should we model this data? Think about what should be our Primary Key/Partition Key/Clustering Key"
   ]
  },
  {
   "cell_type": "code",
   "execution_count": 32,
   "metadata": {},
   "outputs": [],
   "source": [
    "## Task: Query 1: Find the artist_name, song_title and length of song the SoundCloud app history \n",
    "## that was heard during session_number = 338, and item_in_session_number = 4\n",
    "## make use of create table command                   "
   ]
  },
  {
   "cell_type": "code",
   "execution_count": 46,
   "metadata": {},
   "outputs": [],
   "source": [
    "\n",
    "q1 = \"CREATE TABLE IF NOT EXISTS details (session_number int, item_in_session_number int, artist_name text, song_title text, length double, PRIMARY KEY (session_number, item_in_session_number))\"\n",
    "try:\n",
    "    session.execute(q1)\n",
    "except Exception as e:\n",
    "    print(e)"
   ]
  },
  {
   "cell_type": "markdown",
   "metadata": {},
   "source": [
    "### Let's insert our data into of table"
   ]
  },
  {
   "cell_type": "code",
   "execution_count": 51,
   "metadata": {
    "scrolled": false
   },
   "outputs": [],
   "source": [
    "# We have provided part of the code to set up the CSV file. Please complete the Apache Cassandra code below#\n",
    "file_name = 'event_data.csv'\n",
    "\n",
    "with open(file_name, encoding = 'utf8') as f:\n",
    "    csv_reader = csv.reader(f)\n",
    "    next(csv_reader) # skip the header in the csv file\n",
    "    for row in csv_reader:\n",
    "## Task: Write the INSERT statements and assign it to the query variable\n",
    "        #query = \"<Place your insert statement and assign the values here>\"\n",
    "        q1 =  \" INSERT INTO details (session_number, item_in_session_number, artist_name, song_title, length) VALUES (%s, %s, %s, %s, %s)\"\n",
    "        \n",
    "        ## Task: Match the column in the csv file to the column in the INSERT statement.\n",
    "        ## e.g., if you want to INSERT gender from csv file into the database you will use row[2]\n",
    "        ## e.g., if you want to INSERT location from csv file into database you will use row[7]\n",
    "        \n",
    "        session.execute(q1, (int(row[8]), int(row[3]), row[0], row[9], float(row[5])))"
   ]
  },
  {
   "cell_type": "markdown",
   "metadata": {},
   "source": [
    "### Validate our Data Model using a SELECT"
   ]
  },
  {
   "cell_type": "code",
   "execution_count": 49,
   "metadata": {
    "scrolled": true
   },
   "outputs": [
    {
     "name": "stdout",
     "output_type": "stream",
     "text": [
      "Row(artist_name='Faithless', song_title='Music Matters (Mark Knight Dub)', length=495.3073)\n"
     ]
    }
   ],
   "source": [
    "## Task: Make use of the SELECT statement and for loop to check if your query works and display the results\n",
    "\n",
    "q1 = \"Select artist_name, song_title, length from details where session_number = 338 and item_in_session_number = 4\"\n",
    "try:\n",
    "    rows = session.execute(q1)\n",
    "except Exception as e:\n",
    "    print(e)\n",
    "    \n",
    "for result in rows:\n",
    "    print(result)"
   ]
  },
  {
   "cell_type": "code",
   "execution_count": null,
   "metadata": {},
   "outputs": [],
   "source": [
    "# Fetching all the rows where condition meet i.e session_number = 338 and item_in_session_number = 4"
   ]
  },
  {
   "cell_type": "markdown",
   "metadata": {},
   "source": [
    "### Query2 Table2: How should we model this data? Think about what should be our Primary Key/Partition Key/Clustering Key "
   ]
  },
  {
   "cell_type": "code",
   "execution_count": 59,
   "metadata": {},
   "outputs": [],
   "source": [
    "## Task: Query 2: Find the artist_name, song_title (sorted by item_in_session_number) and \n",
    "## name(fname and lname) of the user for user_id = 10, session_number = 182 \n",
    "## make use of create table command             \n",
    "\n",
    "\n",
    "q2 = \"CREATE TABLE IF NOT EXISTS user_info (user_id int, session_number int, item_in_session_number int, artist_name text, song_title text, fname text, lname text,  PRIMARY KEY ((user_id, session_number), item_in_session_number))\"\n",
    "\n",
    "try:\n",
    "    session.execute(q2)\n",
    "except Exception as e:\n",
    "    print(e)                "
   ]
  },
  {
   "cell_type": "markdown",
   "metadata": {},
   "source": [
    "### Let's insert our data into of table"
   ]
  },
  {
   "cell_type": "code",
   "execution_count": 60,
   "metadata": {
    "scrolled": false
   },
   "outputs": [],
   "source": [
    "# We have provided part of the code to set up the CSV file. Please complete the Apache Cassandra code below#\n",
    "file_name = 'event_data.csv'\n",
    "\n",
    "with open(file_name, encoding = 'utf8') as f:\n",
    "    csv_reader = csv.reader(f)\n",
    "    next(csv_reader) # skip the header in the csv file\n",
    "    for row in csv_reader:\n",
    "        ## Task: Write the INSERT statements and assign it to the query variable\n",
    "        #query = \"<Place your insert statement and assign the values here>\"\n",
    "    \n",
    "\n",
    "        q2 = \" INSERT INTO user_info (user_id, session_number, item_in_session_number, artist_name, song_title, fname, lname) VALUES (%s, %s, %s, %s, %s, %s, %s)\"\n",
    "        \n",
    "        ## Task: Match the column in the csv file to the column in the INSERT statement.\n",
    "        ## e.g., if you want to INSERT gender from csv file into the database you will use row[2]\n",
    "        ## e.g., if you want to INSERT location from csv file into database you will use row[7]\n",
    "        session.execute(q2, (int(row[10]), int(row[8]), int(row[3]), row[0], row[9], row[1], row[4]))"
   ]
  },
  {
   "cell_type": "markdown",
   "metadata": {},
   "source": [
    "### Validate our Data Model using a SELECT"
   ]
  },
  {
   "cell_type": "code",
   "execution_count": 69,
   "metadata": {
    "scrolled": false
   },
   "outputs": [
    {
     "name": "stdout",
     "output_type": "stream",
     "text": [
      "0 Down To The Bone , Keep On Keepin' On , Sylvie Cruz\n",
      "1 Three Drives , Greece 2000 , Sylvie Cruz\n",
      "2 Sebastien Tellier , Kilometer , Sylvie Cruz\n",
      "3 Lonnie Gordon , Catch You Baby (Steve Pitron & Max Sanna Radio Edit) , Sylvie Cruz\n"
     ]
    }
   ],
   "source": [
    "## Task: Make use of the SELECT statement and for loop to check if your query works and display the results\n",
    "\n",
    "q2 = session.execute(\"SELECT item_in_session_number, artist_name, song_title, fname, lname FROM user_info WHERE user_id= 10 AND session_number = 182\") \n",
    "\n",
    "# try:\n",
    "#     rows = session.execute(query)\n",
    "# except Exception as e:\n",
    "#     print(e)\n",
    "    \n",
    "for result in q2:\n",
    "    #print(result)\n",
    "    print(result.item_in_session_number, result.artist_name,\",\",result.song_title,\",\", result.fname, result.lname)"
   ]
  },
  {
   "cell_type": "code",
   "execution_count": null,
   "metadata": {},
   "outputs": [],
   "source": [
    "# Fetching all the rows where condition meet i.e user_id = 10 and session_number = 182"
   ]
  },
  {
   "cell_type": "markdown",
   "metadata": {},
   "source": [
    "### Query3 Table3: How should we model this data? Think about what should be our Primary Key/Partition Key/Clustering Key"
   ]
  },
  {
   "cell_type": "code",
   "execution_count": 70,
   "metadata": {},
   "outputs": [],
   "source": [
    "## Task: Query 3: Find every name(first and lastname) of the user from the SoundCloud app history that listened \n",
    "## to the song_title 'All Hands Against His Own'\n",
    "## make use of create table command     \n",
    "\n",
    "\n",
    "q3 = \"CREATE TABLE IF NOT EXISTS song_history(song_title text, fname text, lname text, user_id int, PRIMARY KEY ((song_title), user_id))\"\n",
    "\n",
    "try:\n",
    "    session.execute(q3)\n",
    "except Exception as e:\n",
    "    print(e)          "
   ]
  },
  {
   "cell_type": "markdown",
   "metadata": {},
   "source": [
    "### Let's insert our data into of table"
   ]
  },
  {
   "cell_type": "code",
   "execution_count": 72,
   "metadata": {
    "scrolled": false
   },
   "outputs": [],
   "source": [
    "# We have provided part of the code to set up the CSV file. Please complete the Apache Cassandra code below#\n",
    "file_name = 'event_data.csv'\n",
    "\n",
    "with open(file_name, encoding = 'utf8') as f:\n",
    "    csv_reader = csv.reader(f)\n",
    "    next(csv_reader) # skip the header in the csv file\n",
    "    for row in csv_reader:\n",
    "## Task: Write the INSERT statements and assign it to the query variable\n",
    "        #query = \"<Place your insert statement and assign the values here>\"\n",
    "    \n",
    "        \n",
    "        q3 =\"INSERT INTO song_history (song_title, fname, lname, user_id)VALUES (%s, %s, %s, %s)\"\n",
    "        \n",
    "        ## Task: Match the column in the csv file to the column in the INSERT statement.\n",
    "        ## e.g., if you want to INSERT gender from csv file into the database you will use row[2]\n",
    "        ## e.g., if you want to INSERT location from csv file into database you will use row[7]\n",
    "        session.execute(q3, (row[9], row[1], row[4], int(row[10])))"
   ]
  },
  {
   "cell_type": "markdown",
   "metadata": {},
   "source": [
    "### Validate our Data Model using a SELECT"
   ]
  },
  {
   "cell_type": "code",
   "execution_count": 75,
   "metadata": {
    "scrolled": true
   },
   "outputs": [
    {
     "name": "stdout",
     "output_type": "stream",
     "text": [
      "Full Name: Jacqueline Lynch\n",
      "Full Name: Tegan Levine\n",
      "Full Name: Sara Johnson\n"
     ]
    }
   ],
   "source": [
    "## Task: Make use of the SELECT statement and for loop to check if your query works and display the results\n",
    "\n",
    "q3 = session.execute(\"SELECT fname, lname FROM song_history WHERE song_title = 'All Hands Against His Own'\")\n",
    "\n",
    "# try:\n",
    "#     rows = session.execute(query)\n",
    "# except Exception as e:\n",
    "#     print(e)\n",
    "\n",
    "for result in q3:\n",
    "    print(\"Full Name:\",result.fname, result.lname)"
   ]
  },
  {
   "cell_type": "code",
   "execution_count": null,
   "metadata": {},
   "outputs": [],
   "source": [
    "# Fetching all the rows where condition meet i.e song_title = 'All Hands Against His Own' and printing result as concatenation of two columns `fname` and `lname`"
   ]
  },
  {
   "cell_type": "markdown",
   "metadata": {},
   "source": [
    "### Drop the tables before closing out the sessions"
   ]
  },
  {
   "cell_type": "code",
   "execution_count": 78,
   "metadata": {},
   "outputs": [
    {
     "data": {
      "text/plain": [
       "<cassandra.cluster.ResultSet at 0x169cd6782e0>"
      ]
     },
     "execution_count": 78,
     "metadata": {},
     "output_type": "execute_result"
    }
   ],
   "source": [
    "session.execute(\"DROP TABLE IF EXISTS details\")\n",
    "session.execute(\"DROP TABLE IF EXISTS user_info\")\n",
    "session.execute(\"DROP TABLE IF EXISTS song_history\")"
   ]
  },
  {
   "cell_type": "markdown",
   "metadata": {},
   "source": [
    "### Close the session and cluster connection¶"
   ]
  },
  {
   "cell_type": "code",
   "execution_count": 79,
   "metadata": {},
   "outputs": [],
   "source": [
    "session.shutdown()\n",
    "cluster.shutdown()"
   ]
  }
 ],
 "metadata": {
  "kernelspec": {
   "display_name": "Python 3",
   "language": "python",
   "name": "python3"
  },
  "language_info": {
   "codemirror_mode": {
    "name": "ipython",
    "version": 3
   },
   "file_extension": ".py",
   "mimetype": "text/x-python",
   "name": "python",
   "nbconvert_exporter": "python",
   "pygments_lexer": "ipython3",
   "version": "3.8.8"
  }
 },
 "nbformat": 4,
 "nbformat_minor": 2
}
